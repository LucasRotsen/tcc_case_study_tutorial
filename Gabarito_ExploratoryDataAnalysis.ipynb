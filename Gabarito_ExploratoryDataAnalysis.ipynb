{
 "cells": [
  {
   "cell_type": "markdown",
   "metadata": {
    "collapsed": true
   },
   "source": [
    "# Área de imports"
   ]
  },
  {
   "cell_type": "code",
   "execution_count": 1,
   "metadata": {},
   "outputs": [],
   "source": [
    "import pandas as pd\n",
    "import seaborn as sns\n",
    "import texthero as hero\n",
    "import matplotlib.pyplot as plt"
   ]
  },
  {
   "cell_type": "markdown",
   "metadata": {},
   "source": [
    "# Carregamento dos dados"
   ]
  },
  {
   "cell_type": "code",
   "execution_count": 2,
   "metadata": {},
   "outputs": [],
   "source": [
    "df = pd.read_csv('https://raw.githubusercontent.com/LucasRotsen/tcc_case_study_tutorial/main/data/SMSSpamCollection.txt', sep='\\t', names=[\"label\", \"message\", \"x\"])"
   ]
  },
  {
   "cell_type": "markdown",
   "metadata": {},
   "source": [
    "#### Visualizando o conteúdo do Dataframe"
   ]
  },
  {
   "cell_type": "code",
   "execution_count": 3,
   "metadata": {},
   "outputs": [
    {
     "data": {
      "text/html": [
       "<div>\n",
       "<style scoped>\n",
       "    .dataframe tbody tr th:only-of-type {\n",
       "        vertical-align: middle;\n",
       "    }\n",
       "\n",
       "    .dataframe tbody tr th {\n",
       "        vertical-align: top;\n",
       "    }\n",
       "\n",
       "    .dataframe thead th {\n",
       "        text-align: right;\n",
       "    }\n",
       "</style>\n",
       "<table border=\"1\" class=\"dataframe\">\n",
       "  <thead>\n",
       "    <tr style=\"text-align: right;\">\n",
       "      <th></th>\n",
       "      <th>label</th>\n",
       "      <th>message</th>\n",
       "      <th>x</th>\n",
       "    </tr>\n",
       "  </thead>\n",
       "  <tbody>\n",
       "    <tr>\n",
       "      <th>0</th>\n",
       "      <td>spam</td>\n",
       "      <td>free entry wkly comp win fa cup final tkts 21s...</td>\n",
       "      <td>155</td>\n",
       "    </tr>\n",
       "    <tr>\n",
       "      <th>1</th>\n",
       "      <td>spam</td>\n",
       "      <td>freemsg hey darling week word back like fun st...</td>\n",
       "      <td>147</td>\n",
       "    </tr>\n",
       "    <tr>\n",
       "      <th>2</th>\n",
       "      <td>spam</td>\n",
       "      <td>winner valued network customer selected receiv...</td>\n",
       "      <td>157</td>\n",
       "    </tr>\n",
       "    <tr>\n",
       "      <th>3</th>\n",
       "      <td>spam</td>\n",
       "      <td>mobile months u r entitled update latest colou...</td>\n",
       "      <td>154</td>\n",
       "    </tr>\n",
       "    <tr>\n",
       "      <th>4</th>\n",
       "      <td>spam</td>\n",
       "      <td>six chances win cash pounds txt csh11 send cos...</td>\n",
       "      <td>136</td>\n",
       "    </tr>\n",
       "    <tr>\n",
       "      <th>...</th>\n",
       "      <td>...</td>\n",
       "      <td>...</td>\n",
       "      <td>...</td>\n",
       "    </tr>\n",
       "    <tr>\n",
       "      <th>1395</th>\n",
       "      <td>ham</td>\n",
       "      <td>lots used ones babe model help youi bring match</td>\n",
       "      <td>107</td>\n",
       "    </tr>\n",
       "    <tr>\n",
       "      <th>1396</th>\n",
       "      <td>ham</td>\n",
       "      <td>also bringing galileo dobby</td>\n",
       "      <td>38</td>\n",
       "    </tr>\n",
       "    <tr>\n",
       "      <th>1397</th>\n",
       "      <td>ham</td>\n",
       "      <td>responding</td>\n",
       "      <td>27</td>\n",
       "    </tr>\n",
       "    <tr>\n",
       "      <th>1398</th>\n",
       "      <td>ham</td>\n",
       "      <td>boo babe u enjoyin yourjob u seemed b gettin w...</td>\n",
       "      <td>124</td>\n",
       "    </tr>\n",
       "    <tr>\n",
       "      <th>1399</th>\n",
       "      <td>ham</td>\n",
       "      <td>good afternoon starshine boytoy crave yet ache...</td>\n",
       "      <td>131</td>\n",
       "    </tr>\n",
       "  </tbody>\n",
       "</table>\n",
       "<p>1400 rows × 3 columns</p>\n",
       "</div>"
      ],
      "text/plain": [
       "     label                                            message    x\n",
       "0     spam  free entry wkly comp win fa cup final tkts 21s...  155\n",
       "1     spam  freemsg hey darling week word back like fun st...  147\n",
       "2     spam  winner valued network customer selected receiv...  157\n",
       "3     spam  mobile months u r entitled update latest colou...  154\n",
       "4     spam  six chances win cash pounds txt csh11 send cos...  136\n",
       "...    ...                                                ...  ...\n",
       "1395   ham    lots used ones babe model help youi bring match  107\n",
       "1396   ham                        also bringing galileo dobby   38\n",
       "1397   ham                                         responding   27\n",
       "1398   ham  boo babe u enjoyin yourjob u seemed b gettin w...  124\n",
       "1399   ham  good afternoon starshine boytoy crave yet ache...  131\n",
       "\n",
       "[1400 rows x 3 columns]"
      ]
     },
     "execution_count": 3,
     "metadata": {},
     "output_type": "execute_result"
    }
   ],
   "source": [
    "df"
   ]
  },
  {
   "cell_type": "markdown",
   "metadata": {},
   "source": [
    "#### Deletando a coluna que não iremos utilizar"
   ]
  },
  {
   "cell_type": "code",
   "execution_count": 4,
   "metadata": {},
   "outputs": [],
   "source": [
    "df.drop(columns=['x'], inplace=True)"
   ]
  },
  {
   "cell_type": "markdown",
   "metadata": {},
   "source": [
    "# Análise exploratória dos dados"
   ]
  },
  {
   "cell_type": "markdown",
   "metadata": {},
   "source": [
    "#### Colunas presentes"
   ]
  },
  {
   "cell_type": "code",
   "execution_count": 5,
   "metadata": {},
   "outputs": [
    {
     "data": {
      "text/plain": [
       "['label', 'message']"
      ]
     },
     "execution_count": 5,
     "metadata": {},
     "output_type": "execute_result"
    }
   ],
   "source": [
    "list(df.columns)"
   ]
  },
  {
   "cell_type": "markdown",
   "metadata": {},
   "source": [
    "#### Quantidade de observações"
   ]
  },
  {
   "cell_type": "code",
   "execution_count": 6,
   "metadata": {},
   "outputs": [
    {
     "data": {
      "text/plain": [
       "1400"
      ]
     },
     "execution_count": 6,
     "metadata": {},
     "output_type": "execute_result"
    }
   ],
   "source": [
    "df.shape[0]"
   ]
  },
  {
   "cell_type": "markdown",
   "metadata": {},
   "source": [
    "#### Visualizando amostra por coluna"
   ]
  },
  {
   "cell_type": "code",
   "execution_count": 7,
   "metadata": {},
   "outputs": [
    {
     "data": {
      "text/html": [
       "<div>\n",
       "<style scoped>\n",
       "    .dataframe tbody tr th:only-of-type {\n",
       "        vertical-align: middle;\n",
       "    }\n",
       "\n",
       "    .dataframe tbody tr th {\n",
       "        vertical-align: top;\n",
       "    }\n",
       "\n",
       "    .dataframe thead th {\n",
       "        text-align: right;\n",
       "    }\n",
       "</style>\n",
       "<table border=\"1\" class=\"dataframe\">\n",
       "  <thead>\n",
       "    <tr style=\"text-align: right;\">\n",
       "      <th></th>\n",
       "      <th>label</th>\n",
       "      <th>message</th>\n",
       "    </tr>\n",
       "  </thead>\n",
       "  <tbody>\n",
       "    <tr>\n",
       "      <th>0</th>\n",
       "      <td>spam</td>\n",
       "      <td>free entry wkly comp win fa cup final tkts 21s...</td>\n",
       "    </tr>\n",
       "    <tr>\n",
       "      <th>1</th>\n",
       "      <td>spam</td>\n",
       "      <td>freemsg hey darling week word back like fun st...</td>\n",
       "    </tr>\n",
       "    <tr>\n",
       "      <th>2</th>\n",
       "      <td>spam</td>\n",
       "      <td>winner valued network customer selected receiv...</td>\n",
       "    </tr>\n",
       "    <tr>\n",
       "      <th>3</th>\n",
       "      <td>spam</td>\n",
       "      <td>mobile months u r entitled update latest colou...</td>\n",
       "    </tr>\n",
       "    <tr>\n",
       "      <th>4</th>\n",
       "      <td>spam</td>\n",
       "      <td>six chances win cash pounds txt csh11 send cos...</td>\n",
       "    </tr>\n",
       "  </tbody>\n",
       "</table>\n",
       "</div>"
      ],
      "text/plain": [
       "  label                                            message\n",
       "0  spam  free entry wkly comp win fa cup final tkts 21s...\n",
       "1  spam  freemsg hey darling week word back like fun st...\n",
       "2  spam  winner valued network customer selected receiv...\n",
       "3  spam  mobile months u r entitled update latest colou...\n",
       "4  spam  six chances win cash pounds txt csh11 send cos..."
      ]
     },
     "execution_count": 7,
     "metadata": {},
     "output_type": "execute_result"
    }
   ],
   "source": [
    "df[df['label'] == 'spam'].head(5)"
   ]
  },
  {
   "cell_type": "code",
   "execution_count": 8,
   "metadata": {},
   "outputs": [
    {
     "data": {
      "text/html": [
       "<div>\n",
       "<style scoped>\n",
       "    .dataframe tbody tr th:only-of-type {\n",
       "        vertical-align: middle;\n",
       "    }\n",
       "\n",
       "    .dataframe tbody tr th {\n",
       "        vertical-align: top;\n",
       "    }\n",
       "\n",
       "    .dataframe thead th {\n",
       "        text-align: right;\n",
       "    }\n",
       "</style>\n",
       "<table border=\"1\" class=\"dataframe\">\n",
       "  <thead>\n",
       "    <tr style=\"text-align: right;\">\n",
       "      <th></th>\n",
       "      <th>label</th>\n",
       "      <th>message</th>\n",
       "    </tr>\n",
       "  </thead>\n",
       "  <tbody>\n",
       "    <tr>\n",
       "      <th>700</th>\n",
       "      <td>ham</td>\n",
       "      <td>go jurong point crazy available bugis n great ...</td>\n",
       "    </tr>\n",
       "    <tr>\n",
       "      <th>701</th>\n",
       "      <td>ham</td>\n",
       "      <td>ok lar joking wif u oni</td>\n",
       "    </tr>\n",
       "    <tr>\n",
       "      <th>702</th>\n",
       "      <td>ham</td>\n",
       "      <td>u dun say early hor u c already say</td>\n",
       "    </tr>\n",
       "    <tr>\n",
       "      <th>703</th>\n",
       "      <td>ham</td>\n",
       "      <td>nah think goes usf lives around though</td>\n",
       "    </tr>\n",
       "    <tr>\n",
       "      <th>704</th>\n",
       "      <td>ham</td>\n",
       "      <td>even brother like speak treat like aids patent</td>\n",
       "    </tr>\n",
       "  </tbody>\n",
       "</table>\n",
       "</div>"
      ],
      "text/plain": [
       "    label                                            message\n",
       "700   ham  go jurong point crazy available bugis n great ...\n",
       "701   ham                            ok lar joking wif u oni\n",
       "702   ham                u dun say early hor u c already say\n",
       "703   ham             nah think goes usf lives around though\n",
       "704   ham     even brother like speak treat like aids patent"
      ]
     },
     "execution_count": 8,
     "metadata": {},
     "output_type": "execute_result"
    }
   ],
   "source": [
    "df[df['label'] == 'ham'].head(5)"
   ]
  },
  {
   "cell_type": "markdown",
   "metadata": {},
   "source": [
    "#### Dados faltantes por coluna"
   ]
  },
  {
   "cell_type": "code",
   "execution_count": 9,
   "metadata": {},
   "outputs": [
    {
     "data": {
      "text/plain": [
       "label      0\n",
       "message    1\n",
       "dtype: int64"
      ]
     },
     "execution_count": 9,
     "metadata": {},
     "output_type": "execute_result"
    }
   ],
   "source": [
    "df.isna().sum()"
   ]
  },
  {
   "cell_type": "markdown",
   "metadata": {},
   "source": [
    "#### Visualizando as linhas com dados faltantes"
   ]
  },
  {
   "cell_type": "code",
   "execution_count": 10,
   "metadata": {},
   "outputs": [
    {
     "data": {
      "text/html": [
       "<div>\n",
       "<style scoped>\n",
       "    .dataframe tbody tr th:only-of-type {\n",
       "        vertical-align: middle;\n",
       "    }\n",
       "\n",
       "    .dataframe tbody tr th {\n",
       "        vertical-align: top;\n",
       "    }\n",
       "\n",
       "    .dataframe thead th {\n",
       "        text-align: right;\n",
       "    }\n",
       "</style>\n",
       "<table border=\"1\" class=\"dataframe\">\n",
       "  <thead>\n",
       "    <tr style=\"text-align: right;\">\n",
       "      <th></th>\n",
       "      <th>label</th>\n",
       "      <th>message</th>\n",
       "    </tr>\n",
       "  </thead>\n",
       "  <tbody>\n",
       "    <tr>\n",
       "      <th>915</th>\n",
       "      <td>ham</td>\n",
       "      <td>NaN</td>\n",
       "    </tr>\n",
       "  </tbody>\n",
       "</table>\n",
       "</div>"
      ],
      "text/plain": [
       "    label message\n",
       "915   ham     NaN"
      ]
     },
     "execution_count": 10,
     "metadata": {},
     "output_type": "execute_result"
    }
   ],
   "source": [
    "df[df.isna().any(axis=1)]"
   ]
  },
  {
   "cell_type": "markdown",
   "metadata": {},
   "source": [
    "#### Deletando os dados faltantes\n",
    "\n",
    "Podemos fazer isso tranquilamente, uma vez que existe apenas UM valor faltante"
   ]
  },
  {
   "cell_type": "code",
   "execution_count": 11,
   "metadata": {},
   "outputs": [],
   "source": [
    "df.dropna(inplace=True)"
   ]
  },
  {
   "cell_type": "markdown",
   "metadata": {},
   "source": [
    "#### Distribuição de classes"
   ]
  },
  {
   "cell_type": "code",
   "execution_count": 12,
   "metadata": {},
   "outputs": [
    {
     "data": {
      "text/plain": [
       "<AxesSubplot:>"
      ]
     },
     "execution_count": 12,
     "metadata": {},
     "output_type": "execute_result"
    },
    {
     "data": {
      "image/png": "[encoded data removed]",
      "text/plain": [
       "<Figure size 432x288 with 1 Axes>"
      ]
     },
     "metadata": {
      "needs_background": "light"
     },
     "output_type": "display_data"
    }
   ],
   "source": [
    "df.label.value_counts().sort_values().plot(kind = 'bar')"
   ]
  },
  {
   "cell_type": "markdown",
   "metadata": {},
   "source": [
    "#### Média do tamanho da mensagem por classe"
   ]
  },
  {
   "cell_type": "code",
   "execution_count": 13,
   "metadata": {},
   "outputs": [
    {
     "data": {
      "text/plain": [
       "label\n",
       "ham     43.991416\n",
       "spam    92.261429\n",
       "Name: message-size, dtype: float64"
      ]
     },
     "execution_count": 13,
     "metadata": {},
     "output_type": "execute_result"
    }
   ],
   "source": [
    "# Cria uma nova coluna com o tamanho da mensagem\n",
    "df['message-size'] = df['message'].apply(lambda x: len(x))\n",
    "\n",
    "# Calcula a média por classe\n",
    "df.groupby('label')['message-size'].mean()"
   ]
  },
  {
   "cell_type": "markdown",
   "metadata": {},
   "source": [
    "#### As #20 Palavras mais comuns do dataset para a categoria SPAM"
   ]
  },
  {
   "cell_type": "code",
   "execution_count": 14,
   "metadata": {},
   "outputs": [],
   "source": [
    "# Removendo \"stopwords\", dígitos, e pontuação\n",
    "\n",
    "def text_cleansing(df: pd.DataFrame, column_name: str):\n",
    "    custom_pipeline = [hero.preprocessing.lowercase,\n",
    "                       hero.preprocessing.remove_digits,\n",
    "                       hero.preprocessing.remove_punctuation,\n",
    "                       hero.remove_stopwords,\n",
    "                       hero.remove_whitespace]\n",
    "\n",
    "    return hero.clean(df[column_name], custom_pipeline)"
   ]
  },
  {
   "cell_type": "code",
   "execution_count": 15,
   "metadata": {},
   "outputs": [],
   "source": [
    "df['message'] = text_cleansing(df, 'message')"
   ]
  },
  {
   "cell_type": "code",
   "execution_count": 16,
   "metadata": {},
   "outputs": [],
   "source": [
    "# selecionando as 20 palavras mais frequentes\n",
    "\n",
    "def collect_n_most_frequent_words(df: pd.DataFrame, column: str, n: int):\n",
    "    if n < 0: return {}\n",
    "    return pd.Series(' '.join(df[column]).lower().split()).value_counts()[:n].to_dict()"
   ]
  },
  {
   "cell_type": "code",
   "execution_count": 17,
   "metadata": {},
   "outputs": [],
   "source": [
    "spam_df = df[df['label'] == 'spam']\n",
    "top_20 = collect_n_most_frequent_words(spam_df, 'message', 20)"
   ]
  },
  {
   "cell_type": "code",
   "execution_count": 18,
   "metadata": {},
   "outputs": [
    {
     "name": "stderr",
     "output_type": "stream",
     "text": [
      "/home/lucasrotsen/Git_Repos/tcc_case_study_tutorial/.env/lib/python3.7/site-packages/seaborn/_decorators.py:43: FutureWarning: Pass the following variables as keyword args: x, y. From version 0.12, the only valid positional argument will be `data`, and passing other arguments without an explicit keyword will result in an error or misinterpretation.\n",
      "  FutureWarning\n"
     ]
    },
    {
     "data": {
      "image/png": "[encoded data removed]",
      "text/plain": [
       "<Figure size 864x432 with 1 Axes>"
      ]
     },
     "metadata": {
      "needs_background": "light"
     },
     "output_type": "display_data"
    }
   ],
   "source": [
    "# plotando a informação em um gráfico\n",
    "plt.figure(figsize=(12,6))\n",
    "\n",
    "chart = sns.barplot(\n",
    "    list(top_20.keys()), \n",
    "    list(top_20.values())\n",
    ").set_title('Top #20 palavras do dataset para a categoria SPAM')\n",
    "\n",
    "plt.xticks(\n",
    "    rotation=45, \n",
    "    horizontalalignment='right',\n",
    "    fontweight='light',\n",
    "    fontsize='x-large'  \n",
    ")\n",
    "\n",
    "plt.show()"
   ]
  },
  {
   "cell_type": "markdown",
   "metadata": {},
   "source": [
    "# Testes unitários"
   ]
  },
  {
   "cell_type": "code",
   "execution_count": 19,
   "metadata": {},
   "outputs": [],
   "source": [
    "import unittest"
   ]
  },
  {
   "cell_type": "code",
   "execution_count": 20,
   "metadata": {},
   "outputs": [],
   "source": [
    "class TestTextCleansing(unittest.TestCase):\n",
    "    \n",
    "    def setUp(self):\n",
    "        self.df = pd.DataFrame({\n",
    "            'text': [\n",
    "                'TEST',\n",
    "                '4 5 6 98 test',\n",
    "                '.;!?$# test',\n",
    "                'sure thing we can do this',\n",
    "                'game       today   '\n",
    "            ]\n",
    "        })\n",
    "    \n",
    "    def test_make_lower_case(self):\n",
    "        df = pd.DataFrame()\n",
    "        expected_text = 'test'\n",
    "        \n",
    "        df['clean_text'] = text_cleansing(self.df, 'text')\n",
    "        \n",
    "        self.assertEqual(df['clean_text'].iloc[0], expected_text)     \n",
    "    \n",
    "    def test_remove_digits(self):\n",
    "        df = pd.DataFrame()\n",
    "        expected_text = 'test'\n",
    "        \n",
    "        df['clean_text'] = text_cleansing(self.df, 'text')\n",
    "        \n",
    "        self.assertEqual(df['clean_text'].iloc[1], expected_text) \n",
    "    \n",
    "    def test_remove_punctuation(self):\n",
    "        df = pd.DataFrame()\n",
    "        expected_text = 'test'\n",
    "        \n",
    "        df['clean_text'] = text_cleansing(self.df, 'text')\n",
    "        \n",
    "        self.assertEqual(df['clean_text'].iloc[2], expected_text) \n",
    "    \n",
    "    def test_remove_stopwords(self):\n",
    "        df = pd.DataFrame()\n",
    "        expected_text = 'sure thing'\n",
    "        \n",
    "        df['clean_text'] = text_cleansing(self.df, 'text')\n",
    "        \n",
    "        self.assertEqual(df['clean_text'].iloc[3], expected_text)\n",
    "    \n",
    "    def test_remove_whitespace(self):\n",
    "        df = pd.DataFrame()\n",
    "        expected_text = 'game today'\n",
    "        \n",
    "        df['clean_text'] = text_cleansing(self.df, 'text')\n",
    "        \n",
    "        self.assertEqual(df['clean_text'].iloc[4], expected_text)"
   ]
  },
  {
   "cell_type": "code",
   "execution_count": 21,
   "metadata": {},
   "outputs": [],
   "source": [
    "class TestCollectNMostFrequentWords(unittest.TestCase):\n",
    "    \n",
    "    def setUp(self):\n",
    "        self.df = pd.DataFrame({\n",
    "            'text': [\n",
    "                'This is only a test.',\n",
    "                'This is another test, now with a bigger phrase.',\n",
    "                'Yet another test here, I promise i\\'m almost done.',\n",
    "                'Last test here, yay!',\n",
    "                'Kidding, there\\'s one more test' \n",
    "            ]\n",
    "        })\n",
    "        \n",
    "    def test_correct_number_of_words_returned(self):\n",
    "        top_0 = collect_n_most_frequent_words(self.df, 'text', 0)\n",
    "        self.assertEqual(len(top_0), 0)\n",
    "        \n",
    "        top_1 = collect_n_most_frequent_words(self.df, 'text', 1)\n",
    "        self.assertEqual(len(top_1), 1)\n",
    "        \n",
    "        top_5 = collect_n_most_frequent_words(self.df, 'text', 5)\n",
    "        self.assertEqual(len(top_5), 5)\n",
    "    \n",
    "    def test_correct_words_returned(self):\n",
    "        expected_values = ['test', 'another', 'here,', 'is', 'this']\n",
    "        \n",
    "        top_5 = collect_n_most_frequent_words(self.df, 'text', 5)\n",
    "        self.assertEqual(list(top_5.keys()), expected_values)\n",
    "    \n",
    "    def test_invalid_number_of_words_ordered(self):\n",
    "        expected_value = {}\n",
    "        \n",
    "        top_neg_1 = collect_n_most_frequent_words(self.df, 'text', -1)\n",
    "        self.assertEqual(top_neg_1, expected_value)"
   ]
  },
  {
   "cell_type": "code",
   "execution_count": 22,
   "metadata": {},
   "outputs": [
    {
     "name": "stderr",
     "output_type": "stream",
     "text": [
      "test_correct_number_of_words_returned (__main__.TestCollectNMostFrequentWords) ... ok\n",
      "test_correct_words_returned (__main__.TestCollectNMostFrequentWords) ... ok\n",
      "test_invalid_number_of_words_ordered (__main__.TestCollectNMostFrequentWords) ... ok\n",
      "test_make_lower_case (__main__.TestTextCleansing) ... ok\n",
      "test_remove_digits (__main__.TestTextCleansing) ... ok\n",
      "test_remove_punctuation (__main__.TestTextCleansing) ... ok\n",
      "test_remove_stopwords (__main__.TestTextCleansing) ... ok\n",
      "test_remove_whitespace (__main__.TestTextCleansing) ... ok\n",
      "\n",
      "----------------------------------------------------------------------\n",
      "Ran 8 tests in 0.020s\n",
      "\n",
      "OK\n"
     ]
    },
    {
     "data": {
      "text/plain": [
       "<unittest.main.TestProgram at 0x7fa3b3aa2510>"
      ]
     },
     "execution_count": 22,
     "metadata": {},
     "output_type": "execute_result"
    }
   ],
   "source": [
    "unittest.main(argv=[''], verbosity=2, exit=False)"
   ]
  }
 ],
 "metadata": {
  "kernelspec": {
   "display_name": "Python 3 (ipykernel)",
   "language": "python",
   "name": "python3"
  },
  "language_info": {
   "codemirror_mode": {
    "name": "ipython",
    "version": 3
   },
   "file_extension": ".py",
   "mimetype": "text/x-python",
   "name": "python",
   "nbconvert_exporter": "python",
   "pygments_lexer": "ipython3",
   "version": "3.7.11"
  }
 },
 "nbformat": 4,
 "nbformat_minor": 1
}
