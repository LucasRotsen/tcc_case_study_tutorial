{
 "cells": [
  {
   "cell_type": "code",
   "execution_count": 1,
   "metadata": {},
   "outputs": [],
   "source": [
    "import pandas as pd"
   ]
  },
  {
   "cell_type": "code",
   "execution_count": 2,
   "metadata": {},
   "outputs": [],
   "source": [
    "def add_two_numbers(a: int, b: int):\n",
    "    return a + b"
   ]
  },
  {
   "cell_type": "code",
   "execution_count": 3,
   "metadata": {},
   "outputs": [],
   "source": [
    "def get_dataframe_length(df: pd.DataFrame):\n",
    "    return df.shape[0]"
   ]
  },
  {
   "cell_type": "markdown",
   "metadata": {},
   "source": [
    "#### Testes unitários"
   ]
  },
  {
   "cell_type": "code",
   "execution_count": 6,
   "metadata": {},
   "outputs": [],
   "source": [
    "import unittest"
   ]
  },
  {
   "cell_type": "code",
   "execution_count": 7,
   "metadata": {},
   "outputs": [],
   "source": [
    "class TestAddTwoNumbers(unittest.TestCase):\n",
    "    \n",
    "    def test_when_one_is_zero(self):\n",
    "        self.assertEqual(add_two_numbers(0, 2), 2)\n",
    "            \n",
    "    def test_when_one_is_lt_zero(self):\n",
    "        self.assertEqual(add_two_numbers(5, -2), 3)\n",
    "    \n",
    "    def test_when_both_are_gt_zero(self):\n",
    "        self.assertEqual(add_two_numbers(2, 2), 4)\n",
    "    \n",
    "    def test_when_only_one_parameter(self):\n",
    "        with self.assertRaises(TypeError):\n",
    "            add_two_numbers(1)"
   ]
  },
  {
   "cell_type": "code",
   "execution_count": 8,
   "metadata": {},
   "outputs": [],
   "source": [
    "class TestGetDataframeLength(unittest.TestCase):\n",
    "    \n",
    "    def test_when_df_empty(self):        \n",
    "        df_2 = pd.DataFrame()\n",
    "        \n",
    "        self.assertEqual(get_dataframe_length(df_2), 0)\n",
    "            \n",
    "    def test_when_df_not_empty(self):\n",
    "        df_1 = pd.DataFrame({\n",
    "            'Nome': ['Julio', 'Karine', 'Jose'],\n",
    "            'Altura': [1.80, 1.81, 1.66]\n",
    "        })\n",
    "        \n",
    "        self.assertEqual(get_dataframe_length(df_1), 3)\n",
    "    \n",
    "    def test_when_not_df(self):\n",
    "        with self.assertRaises(AttributeError):\n",
    "            get_dataframe_length([1, 2, 3])"
   ]
  },
  {
   "cell_type": "code",
   "execution_count": 15,
   "metadata": {},
   "outputs": [
    {
     "name": "stderr",
     "output_type": "stream",
     "text": [
      "test_when_both_are_gt_zero (__main__.TestAddTwoNumbers) ... ok\n",
      "test_when_one_is_lt_zero (__main__.TestAddTwoNumbers) ... ok\n",
      "test_when_one_is_zero (__main__.TestAddTwoNumbers) ... ok\n",
      "test_when_only_one_parameter (__main__.TestAddTwoNumbers) ... ok\n",
      "test_when_df_empty (__main__.TestGetDataframeLength) ... ok\n",
      "test_when_df_not_empty (__main__.TestGetDataframeLength) ... ok\n",
      "test_when_not_df (__main__.TestGetDataframeLength) ... ok\n",
      "\n",
      "----------------------------------------------------------------------\n",
      "Ran 7 tests in 0.009s\n",
      "\n",
      "OK\n"
     ]
    },
    {
     "data": {
      "text/plain": [
       "<unittest.main.TestProgram at 0x7f1171db51d0>"
      ]
     },
     "execution_count": 15,
     "metadata": {},
     "output_type": "execute_result"
    }
   ],
   "source": [
    "unittest.main(argv=[''], verbosity=2, exit=False)"
   ]
  }
 ],
 "metadata": {
  "kernelspec": {
   "display_name": "Python 3 (ipykernel)",
   "language": "python",
   "name": "python3"
  },
  "language_info": {
   "codemirror_mode": {
    "name": "ipython",
    "version": 3
   },
   "file_extension": ".py",
   "mimetype": "text/x-python",
   "name": "python",
   "nbconvert_exporter": "python",
   "pygments_lexer": "ipython3",
   "version": "3.7.11"
  }
 },
 "nbformat": 4,
 "nbformat_minor": 1
}
